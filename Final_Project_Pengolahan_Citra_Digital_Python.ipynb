{
 "cells": [
  {
   "cell_type": "code",
   "execution_count": 18,
   "id": "7e6a872e",
   "metadata": {},
   "outputs": [
    {
     "name": "stdout",
     "output_type": "stream",
     "text": [
      "######################################### WELCOME TO OUR FINAL PROJECT #########################################\n",
      "\n",
      "1. Devan Cakra Mudra Wijaya (18081010013)\n",
      "2. Rifky Akhmad Fernanda (18081010126)\n",
      "\n",
      "################################################################################################################\n",
      "\n",
      "IN PROGRESS, COMING SOON...\n",
      "\n",
      "\n",
      "\n",
      "################################################################################################################\n",
      "@ 2021 Pengenalan Huruf Dan Angka Tulisan Tangan Menggunakan Metode CNN by NPM 18081010013 & NPM 18081010126\n",
      "################################################################################################################\n"
     ]
    }
   ],
   "source": [
    "print(\"######################################### WELCOME TO OUR FINAL PROJECT #########################################\\n\\n1. Devan Cakra Mudra Wijaya (18081010013)\\n2. Rifky Akhmad Fernanda (18081010126)\\n\\n################################################################################################################\")\n",
    "print(\"\\nIN PROGRESS, COMING SOON...\\n\")\n",
    "print(\"\\n\\n################################################################################################################\\n@ 2021 Pengenalan Huruf Dan Angka Tulisan Tangan Menggunakan Metode CNN by NPM 18081010013 & NPM 18081010126\\n################################################################################################################\")"
   ]
  },
  {
   "cell_type": "code",
   "execution_count": null,
   "id": "d9c016b1",
   "metadata": {},
   "outputs": [],
   "source": []
  }
 ],
 "metadata": {
  "kernelspec": {
   "display_name": "Python 3",
   "language": "python",
   "name": "python3"
  },
  "language_info": {
   "codemirror_mode": {
    "name": "ipython",
    "version": 3
   },
   "file_extension": ".py",
   "mimetype": "text/x-python",
   "name": "python",
   "nbconvert_exporter": "python",
   "pygments_lexer": "ipython3",
   "version": "3.8.8"
  }
 },
 "nbformat": 4,
 "nbformat_minor": 5
}

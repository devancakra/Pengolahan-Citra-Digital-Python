{
 "cells": [
  {
   "cell_type": "code",
   "execution_count": 8,
   "id": "73e29d30",
   "metadata": {
    "scrolled": true
   },
   "outputs": [
    {
     "name": "stdout",
     "output_type": "stream",
     "text": [
      "Epoch 1/3\n",
      "1875/1875 [==============================] - 11s 2ms/step - loss: 0.2622 - accuracy: 0.9237\n",
      "Epoch 2/3\n",
      "1875/1875 [==============================] - 5s 2ms/step - loss: 0.1065 - accuracy: 0.9665: 0s - loss: 0.108\n",
      "Epoch 3/3\n",
      "1875/1875 [==============================] - 4s 2ms/step - loss: 0.0736 - accuracy: 0.9768: 2s -\n",
      "313/313 [==============================] - 1s 1ms/step - loss: 0.1021 - accuracy: 0.9680\n",
      "0.9679999947547913\n",
      "0.10213106125593185\n",
      "\n",
      "==== Dataset telah di Training ====\n",
      "\n",
      "percobaan ke- 1\n",
      "----------------\n",
      "Hasil Prediksi :  3\n",
      "----------------\n"
     ]
    },
    {
     "data": {
      "image/png": "[encoded data removed]",
      "text/plain": [
       "<Figure size 432x288 with 1 Axes>"
      ]
     },
     "metadata": {
      "needs_background": "light"
     },
     "output_type": "display_data"
    },
    {
     "name": "stdout",
     "output_type": "stream",
     "text": [
      "percobaan ke- 2\n",
      "----------------\n",
      "Hasil Prediksi :  8\n",
      "----------------\n"
     ]
    },
    {
     "data": {
      "image/png": "[encoded data removed]",
      "text/plain": [
       "<Figure size 432x288 with 1 Axes>"
      ]
     },
     "metadata": {
      "needs_background": "light"
     },
     "output_type": "display_data"
    },
    {
     "name": "stdout",
     "output_type": "stream",
     "text": [
      "percobaan ke- 3\n",
      "----------------\n",
      "Hasil Prediksi :  1\n",
      "----------------\n"
     ]
    },
    {
     "data": {
      "image/png": "[encoded data removed]",
      "text/plain": [
       "<Figure size 432x288 with 1 Axes>"
      ]
     },
     "metadata": {
      "needs_background": "light"
     },
     "output_type": "display_data"
    },
    {
     "name": "stdout",
     "output_type": "stream",
     "text": [
      "percobaan ke- 4\n",
      "----------------\n",
      "Hasil Prediksi :  5\n",
      "----------------\n"
     ]
    },
    {
     "data": {
      "image/png": "[encoded data removed]",
      "text/plain": [
       "<Figure size 432x288 with 1 Axes>"
      ]
     },
     "metadata": {
      "needs_background": "light"
     },
     "output_type": "display_data"
    },
    {
     "name": "stdout",
     "output_type": "stream",
     "text": [
      "percobaan ke- 5\n",
      "----------------\n",
      "Hasil Prediksi :  0\n",
      "----------------\n"
     ]
    },
    {
     "data": {
      "image/png": "[encoded data removed]",
      "text/plain": [
       "<Figure size 432x288 with 1 Axes>"
      ]
     },
     "metadata": {
      "needs_background": "light"
     },
     "output_type": "display_data"
    },
    {
     "name": "stdout",
     "output_type": "stream",
     "text": [
      "percobaan ke- 6\n",
      "----------------\n",
      "Hasil Prediksi :  5\n",
      "----------------\n"
     ]
    },
    {
     "data": {
      "image/png": "[encoded data removed]",
      "text/plain": [
       "<Figure size 432x288 with 1 Axes>"
      ]
     },
     "metadata": {
      "needs_background": "light"
     },
     "output_type": "display_data"
    },
    {
     "name": "stdout",
     "output_type": "stream",
     "text": [
      "percobaan ke- 7\n",
      "----------------\n",
      "Hasil Prediksi :  5\n",
      "----------------\n"
     ]
    },
    {
     "data": {
      "image/png": "[encoded data removed]",
      "text/plain": [
       "<Figure size 432x288 with 1 Axes>"
      ]
     },
     "metadata": {
      "needs_background": "light"
     },
     "output_type": "display_data"
    },
    {
     "name": "stdout",
     "output_type": "stream",
     "text": [
      "percobaan ke- 8\n",
      "----------------\n",
      "Hasil Prediksi :  5\n",
      "----------------\n"
     ]
    },
    {
     "data": {
      "image/png": "[encoded data removed]",
      "text/plain": [
       "<Figure size 432x288 with 1 Axes>"
      ]
     },
     "metadata": {
      "needs_background": "light"
     },
     "output_type": "display_data"
    }
   ],
   "source": [
    "from cv2 import data\n",
    "import pandas as pd\n",
    "\n",
    "import numpy as np\n",
    "import cv2 as cv\n",
    "import matplotlib.pyplot as plt\n",
    "import PIL\n",
    "from PIL import Image\n",
    "\n",
    "from tkinter import messagebox\n",
    "from tkinter import *\n",
    "\n",
    "\n",
    "def ConvertBinary():\n",
    "    # menjadikan data input kedalam binner\n",
    "    dataset_name = datasetname_Entry.get()\n",
    "    datasave_name = datasavename_Entry.get()\n",
    "    print(dataset_name)\n",
    "    basewidth = 28\n",
    "    img = PIL.Image.open(f'input_img\\\\{dataset_name}')\n",
    "    wpercent = (basewidth/float(img.size[0]))\n",
    "    img = img.resize((basewidth, basewidth), PIL.Image.ANTIALIAS)\n",
    "    img.save(f'test_img\\\\{datasave_name}.png')\n",
    "    img = cv.imread(f'test_img\\\\{datasave_name}.png')\n",
    "    ret, thresh = cv.threshold(img, 125, 255, cv.THRESH_BINARY)\n",
    "    cv.imwrite(f'test_img\\\\{datasave_name}.png', thresh)\n",
    "    cv.imshow('Threshold', thresh)\n",
    "    print(\"Sukses Mengkonversi Binner\")\n",
    "    cv.waitKey(0)\n",
    "    cv.destroyAllWindows()\n",
    "\n",
    "\n",
    "def TrainData():\n",
    "    datapredict_name = datapredict_Entry.get()\n",
    "    import tensorflow as tf\n",
    "    from tensorflow.python.keras.metrics import accuracy\n",
    "    mnist = tf.keras.datasets.mnist\n",
    "    # CNN Dataset train\n",
    "    (x_train, y_train), (x_test, y_test) = mnist.load_data()\n",
    "\n",
    "    x_train = tf.keras.utils.normalize(x_train, axis=1)\n",
    "    x_test = tf.keras.utils.normalize(x_test, axis=1)\n",
    "\n",
    "    model = tf.keras.models.Sequential()\n",
    "    model.add(tf.keras.layers.Flatten(input_shape=(28, 28)))\n",
    "    model.add(tf.keras.layers.Dense(units=128, activation=tf.nn.relu))\n",
    "    model.add(tf.keras.layers.Dense(units=128, activation=tf.nn.relu))\n",
    "    model.add(tf.keras.layers.Dense(units=10, activation=tf.nn.softmax))\n",
    "    model.compile(optimizer='adam',\n",
    "                  loss='sparse_categorical_crossentropy', metrics=['accuracy'])\n",
    "    model.fit(x_train, y_train, epochs=3)\n",
    "\n",
    "    # hasil loss dan akurasi\n",
    "    loss, accuracy = model.evaluate(x_test, y_test)\n",
    "    print(accuracy)\n",
    "    print(loss)\n",
    "    print(\"\\n==== Dataset telah di Training ====\\n\")\n",
    "\n",
    "    for x in range(1, int(datapredict_name)):\n",
    "        # membaca data test open cv\n",
    "        print(\"percobaan ke-\", x)\n",
    "        # all of it and 1st and last one\n",
    "        img = cv.imread(f'test_img\\\\{x}.png')[:, :, 0]\n",
    "        # invert image\n",
    "        img = np.invert(np.array([img]))\n",
    "        prediction = model.predict(img)\n",
    "        print(\"----------------\")\n",
    "        print(\"Hasil Prediksi : \", np.argmax(prediction))\n",
    "        print(\"----------------\")\n",
    "        # modal\n",
    "        plt.imshow(img[0], cmap=plt.cm.binary)\n",
    "        plt.show()\n",
    "\n",
    "\n",
    "def close_app():\n",
    "    msg = messagebox.askquestion(\n",
    "        \"Keluar\", \"Apakah Anda Yakin Ingin Keluar ?\")\n",
    "    if msg == 'yes':\n",
    "        root.destroy()\n",
    "\n",
    "\n",
    "root = Tk()\n",
    "\n",
    "# app title\n",
    "root.title(\"Pengenalan Tulisan Tangan CNN\")\n",
    "\n",
    "# input from dari user\n",
    "K_Entry = Entry(root, width=30, bg='pale goldenrod',\n",
    "                borderwidth=1, relief=\"solid\")\n",
    "datasetname_Entry = Entry(\n",
    "    root, width=30, bg='pale goldenrod', borderwidth=1, relief=\"solid\")\n",
    "datasavename_Entry = Entry(\n",
    "    root, width=30, bg='pale goldenrod', borderwidth=1, relief=\"solid\")\n",
    "datapredict_Entry = Entry(\n",
    "    root, width=10, bg='pale goldenrod', borderwidth=1, relief=\"solid\")\n",
    "\n",
    "# button events\n",
    "upload_button = Button(text=\"Konversi Binner\", width=25, height=1, bg=\"grey\",\n",
    "                       fg=\"white\", borderwidth=1, relief=\"solid\", command=ConvertBinary)\n",
    "compute_button = Button(text=\"Train Dataset + Prediksi Datatest\", width=25, height=1, bg=\"grey\",\n",
    "                        fg=\"white\", borderwidth=1, relief=\"solid\", command=TrainData)\n",
    "exit_button = Button(text=\"EXIT\", width=25, height=1, bg=\"grey\",\n",
    "                     fg=\"white\", borderwidth=1, relief=\"solid\", command=close_app)\n",
    "\n",
    "# labels\n",
    "datasetname_label = Label(root, text=\"Masukkan Nama Input Gambar\", font=(\n",
    "    'Times new Roman', 13), bg='tan1', borderwidth=2, relief=\"solid\")\n",
    "datasavename_label = Label(root, text=\"Nama Output Gambar .png\", font=(\n",
    "    'Times new Roman', 13), bg='tan1', borderwidth=2, relief=\"solid\")\n",
    "datapredict_label = Label(root, text=\"Masukkan iterasi\", font=(\n",
    "    'Times new Roman', 13), bg='tan1', borderwidth=2, relief=\"solid\")\n",
    "\n",
    "# packing widgets dan atur grid\n",
    "datasetname_label.grid(row=1, column=1)\n",
    "datasavename_label.grid(row=3, column=1)\n",
    "datapredict_label.grid(row=7, column=1)\n",
    "datasetname_Entry.grid(row=1, column=3)\n",
    "datasavename_Entry.grid(row=3, column=3)\n",
    "datapredict_Entry.grid(row=7, column=3)\n",
    "upload_button.grid(row=5, column=3)\n",
    "compute_button.grid(row=9, column=3)\n",
    "exit_button.grid(row=11, column=3)\n",
    "\n",
    "# setting resolution\n",
    "root.geometry(\"500x280\")\n",
    "\n",
    "# empty rows in the grid\n",
    "root.grid_rowconfigure(0, minsize=15)\n",
    "root.grid_rowconfigure(2, minsize=15)\n",
    "root.grid_rowconfigure(4, minsize=15)\n",
    "root.grid_rowconfigure(6, minsize=15)\n",
    "root.grid_rowconfigure(8, minsize=15)\n",
    "root.grid_rowconfigure(10, minsize=15)\n",
    "\n",
    "# empty columns in the grid\n",
    "root.grid_columnconfigure(0, minsize=15)\n",
    "root.grid_columnconfigure(2, minsize=15)\n",
    "\n",
    "# loop to render the application\n",
    "root.mainloop()\n",
    "# ConvertBinary()\n",
    "# TrainData()"
   ]
  },
  {
   "cell_type": "code",
   "execution_count": null,
   "id": "ed780da6",
   "metadata": {},
   "outputs": [],
   "source": []
  }
 ],
 "metadata": {
  "kernelspec": {
   "display_name": "Python 3",
   "language": "python",
   "name": "python3"
  },
  "language_info": {
   "codemirror_mode": {
    "name": "ipython",
    "version": 3
   },
   "file_extension": ".py",
   "mimetype": "text/x-python",
   "name": "python",
   "nbconvert_exporter": "python",
   "pygments_lexer": "ipython3",
   "version": "3.8.8"
  }
 },
 "nbformat": 4,
 "nbformat_minor": 5
}
